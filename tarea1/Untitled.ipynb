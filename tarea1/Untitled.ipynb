{
 "cells": [
  {
   "cell_type": "code",
   "execution_count": 295,
   "metadata": {},
   "outputs": [],
   "source": [
    "import numpy as np\n",
    "import pandas as pd\n",
    "import sklearn\n",
    "from sklearn import preprocessing\n",
    "from sklearn.linear_model import LogisticRegression\n",
    "from sklearn.model_selection import train_test_split\n",
    "from sklearn import metrics\n",
    "from sklearn.metrics import classification_report\n",
    "from sklearn import tree\n",
    "from sklearn.ensemble import RandomForestClassifier\n",
    "import imblearn\n",
    "from imblearn.over_sampling import RandomOverSampler\n",
    "from imblearn.under_sampling import RandomUnderSampler\n",
    "import matplotlib.pyplot as plt"
   ]
  },
  {
   "cell_type": "code",
   "execution_count": 256,
   "metadata": {},
   "outputs": [
    {
     "data": {
      "text/html": [
       "<div>\n",
       "<style scoped>\n",
       "    .dataframe tbody tr th:only-of-type {\n",
       "        vertical-align: middle;\n",
       "    }\n",
       "\n",
       "    .dataframe tbody tr th {\n",
       "        vertical-align: top;\n",
       "    }\n",
       "\n",
       "    .dataframe thead th {\n",
       "        text-align: right;\n",
       "    }\n",
       "</style>\n",
       "<table border=\"1\" class=\"dataframe\">\n",
       "  <thead>\n",
       "    <tr style=\"text-align: right;\">\n",
       "      <th></th>\n",
       "      <th>objid</th>\n",
       "      <th>ra</th>\n",
       "      <th>dec</th>\n",
       "      <th>u</th>\n",
       "      <th>g</th>\n",
       "      <th>r</th>\n",
       "      <th>i</th>\n",
       "      <th>z</th>\n",
       "      <th>run</th>\n",
       "      <th>rerun</th>\n",
       "      <th>camcol</th>\n",
       "      <th>field</th>\n",
       "      <th>specobjid</th>\n",
       "      <th>class</th>\n",
       "      <th>redshift</th>\n",
       "      <th>plate</th>\n",
       "      <th>mjd</th>\n",
       "      <th>fiberid</th>\n",
       "    </tr>\n",
       "  </thead>\n",
       "  <tbody>\n",
       "    <tr>\n",
       "      <th>0</th>\n",
       "      <td>1.237650e+18</td>\n",
       "      <td>183.531326</td>\n",
       "      <td>0.089693</td>\n",
       "      <td>19.47406</td>\n",
       "      <td>17.04240</td>\n",
       "      <td>15.94699</td>\n",
       "      <td>15.50342</td>\n",
       "      <td>15.22531</td>\n",
       "      <td>752</td>\n",
       "      <td>301</td>\n",
       "      <td>4</td>\n",
       "      <td>267</td>\n",
       "      <td>3.722360e+18</td>\n",
       "      <td>STAR</td>\n",
       "      <td>-0.000009</td>\n",
       "      <td>3306</td>\n",
       "      <td>54922</td>\n",
       "      <td>491</td>\n",
       "    </tr>\n",
       "    <tr>\n",
       "      <th>1</th>\n",
       "      <td>1.237650e+18</td>\n",
       "      <td>183.598371</td>\n",
       "      <td>0.135285</td>\n",
       "      <td>18.66280</td>\n",
       "      <td>17.21449</td>\n",
       "      <td>16.67637</td>\n",
       "      <td>16.48922</td>\n",
       "      <td>16.39150</td>\n",
       "      <td>752</td>\n",
       "      <td>301</td>\n",
       "      <td>4</td>\n",
       "      <td>267</td>\n",
       "      <td>3.638140e+17</td>\n",
       "      <td>STAR</td>\n",
       "      <td>-0.000055</td>\n",
       "      <td>323</td>\n",
       "      <td>51615</td>\n",
       "      <td>541</td>\n",
       "    </tr>\n",
       "    <tr>\n",
       "      <th>2</th>\n",
       "      <td>1.237650e+18</td>\n",
       "      <td>183.680207</td>\n",
       "      <td>0.126185</td>\n",
       "      <td>19.38298</td>\n",
       "      <td>18.19169</td>\n",
       "      <td>17.47428</td>\n",
       "      <td>17.08732</td>\n",
       "      <td>16.80125</td>\n",
       "      <td>752</td>\n",
       "      <td>301</td>\n",
       "      <td>4</td>\n",
       "      <td>268</td>\n",
       "      <td>3.232740e+17</td>\n",
       "      <td>GALAXY</td>\n",
       "      <td>0.123111</td>\n",
       "      <td>287</td>\n",
       "      <td>52023</td>\n",
       "      <td>513</td>\n",
       "    </tr>\n",
       "    <tr>\n",
       "      <th>3</th>\n",
       "      <td>1.237650e+18</td>\n",
       "      <td>183.870529</td>\n",
       "      <td>0.049911</td>\n",
       "      <td>17.76536</td>\n",
       "      <td>16.60272</td>\n",
       "      <td>16.16116</td>\n",
       "      <td>15.98233</td>\n",
       "      <td>15.90438</td>\n",
       "      <td>752</td>\n",
       "      <td>301</td>\n",
       "      <td>4</td>\n",
       "      <td>269</td>\n",
       "      <td>3.722370e+18</td>\n",
       "      <td>STAR</td>\n",
       "      <td>-0.000111</td>\n",
       "      <td>3306</td>\n",
       "      <td>54922</td>\n",
       "      <td>510</td>\n",
       "    </tr>\n",
       "    <tr>\n",
       "      <th>4</th>\n",
       "      <td>1.237650e+18</td>\n",
       "      <td>183.883288</td>\n",
       "      <td>0.102557</td>\n",
       "      <td>17.55025</td>\n",
       "      <td>16.26342</td>\n",
       "      <td>16.43869</td>\n",
       "      <td>16.55492</td>\n",
       "      <td>16.61326</td>\n",
       "      <td>752</td>\n",
       "      <td>301</td>\n",
       "      <td>4</td>\n",
       "      <td>269</td>\n",
       "      <td>3.722370e+18</td>\n",
       "      <td>STAR</td>\n",
       "      <td>0.000590</td>\n",
       "      <td>3306</td>\n",
       "      <td>54922</td>\n",
       "      <td>512</td>\n",
       "    </tr>\n",
       "  </tbody>\n",
       "</table>\n",
       "</div>"
      ],
      "text/plain": [
       "          objid          ra       dec         u         g         r         i  \\\n",
       "0  1.237650e+18  183.531326  0.089693  19.47406  17.04240  15.94699  15.50342   \n",
       "1  1.237650e+18  183.598371  0.135285  18.66280  17.21449  16.67637  16.48922   \n",
       "2  1.237650e+18  183.680207  0.126185  19.38298  18.19169  17.47428  17.08732   \n",
       "3  1.237650e+18  183.870529  0.049911  17.76536  16.60272  16.16116  15.98233   \n",
       "4  1.237650e+18  183.883288  0.102557  17.55025  16.26342  16.43869  16.55492   \n",
       "\n",
       "          z  run  rerun  camcol  field     specobjid   class  redshift  plate  \\\n",
       "0  15.22531  752    301       4    267  3.722360e+18    STAR -0.000009   3306   \n",
       "1  16.39150  752    301       4    267  3.638140e+17    STAR -0.000055    323   \n",
       "2  16.80125  752    301       4    268  3.232740e+17  GALAXY  0.123111    287   \n",
       "3  15.90438  752    301       4    269  3.722370e+18    STAR -0.000111   3306   \n",
       "4  16.61326  752    301       4    269  3.722370e+18    STAR  0.000590   3306   \n",
       "\n",
       "     mjd  fiberid  \n",
       "0  54922      491  \n",
       "1  51615      541  \n",
       "2  52023      513  \n",
       "3  54922      510  \n",
       "4  54922      512  "
      ]
     },
     "execution_count": 256,
     "metadata": {},
     "output_type": "execute_result"
    }
   ],
   "source": [
    "df = pd.read_csv(\"SDSS-DR14.csv\", sep=',', header=0)\n",
    "df.head()"
   ]
  },
  {
   "cell_type": "code",
   "execution_count": 3,
   "metadata": {
    "scrolled": true
   },
   "outputs": [
    {
     "data": {
      "text/plain": [
       "objid        0\n",
       "ra           0\n",
       "dec          0\n",
       "u            0\n",
       "g            0\n",
       "r            0\n",
       "i            0\n",
       "z            0\n",
       "run          0\n",
       "rerun        0\n",
       "camcol       0\n",
       "field        0\n",
       "specobjid    0\n",
       "class        0\n",
       "redshift     0\n",
       "plate        0\n",
       "mjd          0\n",
       "fiberid      0\n",
       "dtype: int64"
      ]
     },
     "execution_count": 3,
     "metadata": {},
     "output_type": "execute_result"
    }
   ],
   "source": [
    "df.isnull().sum()"
   ]
  },
  {
   "cell_type": "code",
   "execution_count": 4,
   "metadata": {},
   "outputs": [
    {
     "data": {
      "text/html": [
       "<div>\n",
       "<style scoped>\n",
       "    .dataframe tbody tr th:only-of-type {\n",
       "        vertical-align: middle;\n",
       "    }\n",
       "\n",
       "    .dataframe tbody tr th {\n",
       "        vertical-align: top;\n",
       "    }\n",
       "\n",
       "    .dataframe thead th {\n",
       "        text-align: right;\n",
       "    }\n",
       "</style>\n",
       "<table border=\"1\" class=\"dataframe\">\n",
       "  <thead>\n",
       "    <tr style=\"text-align: right;\">\n",
       "      <th></th>\n",
       "      <th>objid</th>\n",
       "      <th>ra</th>\n",
       "      <th>dec</th>\n",
       "      <th>u</th>\n",
       "      <th>g</th>\n",
       "      <th>r</th>\n",
       "      <th>i</th>\n",
       "      <th>z</th>\n",
       "      <th>run</th>\n",
       "      <th>rerun</th>\n",
       "      <th>camcol</th>\n",
       "      <th>field</th>\n",
       "      <th>specobjid</th>\n",
       "      <th>redshift</th>\n",
       "      <th>plate</th>\n",
       "      <th>mjd</th>\n",
       "      <th>fiberid</th>\n",
       "    </tr>\n",
       "    <tr>\n",
       "      <th>class</th>\n",
       "      <th></th>\n",
       "      <th></th>\n",
       "      <th></th>\n",
       "      <th></th>\n",
       "      <th></th>\n",
       "      <th></th>\n",
       "      <th></th>\n",
       "      <th></th>\n",
       "      <th></th>\n",
       "      <th></th>\n",
       "      <th></th>\n",
       "      <th></th>\n",
       "      <th></th>\n",
       "      <th></th>\n",
       "      <th></th>\n",
       "      <th></th>\n",
       "      <th></th>\n",
       "    </tr>\n",
       "  </thead>\n",
       "  <tbody>\n",
       "    <tr>\n",
       "      <th>GALAXY</th>\n",
       "      <td>4998</td>\n",
       "      <td>4998</td>\n",
       "      <td>4998</td>\n",
       "      <td>4998</td>\n",
       "      <td>4998</td>\n",
       "      <td>4998</td>\n",
       "      <td>4998</td>\n",
       "      <td>4998</td>\n",
       "      <td>4998</td>\n",
       "      <td>4998</td>\n",
       "      <td>4998</td>\n",
       "      <td>4998</td>\n",
       "      <td>4998</td>\n",
       "      <td>4998</td>\n",
       "      <td>4998</td>\n",
       "      <td>4998</td>\n",
       "      <td>4998</td>\n",
       "    </tr>\n",
       "    <tr>\n",
       "      <th>QSO</th>\n",
       "      <td>850</td>\n",
       "      <td>850</td>\n",
       "      <td>850</td>\n",
       "      <td>850</td>\n",
       "      <td>850</td>\n",
       "      <td>850</td>\n",
       "      <td>850</td>\n",
       "      <td>850</td>\n",
       "      <td>850</td>\n",
       "      <td>850</td>\n",
       "      <td>850</td>\n",
       "      <td>850</td>\n",
       "      <td>850</td>\n",
       "      <td>850</td>\n",
       "      <td>850</td>\n",
       "      <td>850</td>\n",
       "      <td>850</td>\n",
       "    </tr>\n",
       "    <tr>\n",
       "      <th>STAR</th>\n",
       "      <td>4152</td>\n",
       "      <td>4152</td>\n",
       "      <td>4152</td>\n",
       "      <td>4152</td>\n",
       "      <td>4152</td>\n",
       "      <td>4152</td>\n",
       "      <td>4152</td>\n",
       "      <td>4152</td>\n",
       "      <td>4152</td>\n",
       "      <td>4152</td>\n",
       "      <td>4152</td>\n",
       "      <td>4152</td>\n",
       "      <td>4152</td>\n",
       "      <td>4152</td>\n",
       "      <td>4152</td>\n",
       "      <td>4152</td>\n",
       "      <td>4152</td>\n",
       "    </tr>\n",
       "  </tbody>\n",
       "</table>\n",
       "</div>"
      ],
      "text/plain": [
       "        objid    ra   dec     u     g     r     i     z   run  rerun  camcol  \\\n",
       "class                                                                          \n",
       "GALAXY   4998  4998  4998  4998  4998  4998  4998  4998  4998   4998    4998   \n",
       "QSO       850   850   850   850   850   850   850   850   850    850     850   \n",
       "STAR     4152  4152  4152  4152  4152  4152  4152  4152  4152   4152    4152   \n",
       "\n",
       "        field  specobjid  redshift  plate   mjd  fiberid  \n",
       "class                                                     \n",
       "GALAXY   4998       4998      4998   4998  4998     4998  \n",
       "QSO       850        850       850    850   850      850  \n",
       "STAR     4152       4152      4152   4152  4152     4152  "
      ]
     },
     "execution_count": 4,
     "metadata": {},
     "output_type": "execute_result"
    }
   ],
   "source": [
    "df.groupby(\"class\").count()"
   ]
  },
  {
   "cell_type": "code",
   "execution_count": 321,
   "metadata": {},
   "outputs": [
    {
     "data": {
      "text/plain": [
       "Index(['u', 'g', 'r', 'i', 'z', 'redshift', 'mjd'], dtype='object')"
      ]
     },
     "metadata": {},
     "output_type": "display_data"
    }
   ],
   "source": [
    "oversampler = RandomOverSampler(sampling_strategy={\"GALAXY\":4998, \"QSO\":4100, \"STAR\":4152 })\n",
    "undersampler = RandomUnderSampler(sampling_strategy={\"GALAXY\":2998, \"QSO\":850, \"STAR\":2152 })\n",
    "\n",
    "\n",
    "X = data.drop([\"class\"],axis=1).iloc[:,:17]\n",
    "Y = data.iloc[:,13]\n",
    "\n",
    "mask = [3, 4, 5, 6, 7, 13, 15]\n",
    "X = X.iloc[:, mask]\n",
    "display(X.columns)\n",
    "\n",
    "X_over, Y_over = oversampler.fit_resample(X, Y)\n",
    "X_under, Y_under = undersampler.fit_resample(X, Y)\n",
    "\n",
    "Xo_train, Xo_test, Yo_train, Yo_test = train_test_split(X, Y, test_size = .3, random_state=25)\n",
    "X_train, X_test, Y_train, Y_test = train_test_split(X_over, Y_over, test_size = .3, random_state=25)\n",
    "\n",
    "scaler = preprocessing.StandardScaler().fit(X_train)\n",
    "Xos_train = scaler.transform(Xo_train)\n",
    "Xos_test = scaler.transform(Xo_test)\n",
    "Xs_train = scaler.transform(X_train)\n",
    "Xs_test = scaler.transform(X_test)"
   ]
  },
  {
   "cell_type": "markdown",
   "metadata": {},
   "source": [
    "# Logistic Regression"
   ]
  },
  {
   "cell_type": "code",
   "execution_count": 324,
   "metadata": {
    "scrolled": false
   },
   "outputs": [
    {
     "name": "stdout",
     "output_type": "stream",
     "text": [
      "Dataset original:\n"
     ]
    },
    {
     "data": {
      "text/plain": [
       "array([[1398,    3,   52],\n",
       "       [  23,  224,    0],\n",
       "       [  82,    0, 1218]], dtype=int64)"
      ]
     },
     "metadata": {},
     "output_type": "display_data"
    },
    {
     "name": "stdout",
     "output_type": "stream",
     "text": [
      "              precision    recall  f1-score   support\n",
      "\n",
      "      GALAXY       0.93      0.96      0.95      1453\n",
      "         QSO       0.99      0.91      0.95       247\n",
      "        STAR       0.96      0.94      0.95      1300\n",
      "\n",
      "    accuracy                           0.95      3000\n",
      "   macro avg       0.96      0.94      0.95      3000\n",
      "weighted avg       0.95      0.95      0.95      3000\n",
      "\n",
      "Oversampling:\n"
     ]
    },
    {
     "data": {
      "text/plain": [
       "array([[1422,   11,   78],\n",
       "       [  38, 1149,    0],\n",
       "       [  67,    8, 1202]], dtype=int64)"
      ]
     },
     "metadata": {},
     "output_type": "display_data"
    },
    {
     "name": "stdout",
     "output_type": "stream",
     "text": [
      "              precision    recall  f1-score   support\n",
      "\n",
      "      GALAXY       0.93      0.94      0.94      1511\n",
      "         QSO       0.98      0.97      0.98      1187\n",
      "        STAR       0.94      0.94      0.94      1277\n",
      "\n",
      "    accuracy                           0.95      3975\n",
      "   macro avg       0.95      0.95      0.95      3975\n",
      "weighted avg       0.95      0.95      0.95      3975\n",
      "\n"
     ]
    },
    {
     "data": {
      "text/plain": [
       "array([[  1.60056331,  -1.90504372,   6.60009109,  -2.22633196,\n",
       "         -5.22651789,  -1.62079564,  -2.10530272],\n",
       "       [ -4.34502354,   8.15208262,   2.40174899,  -2.94311372,\n",
       "         -3.20486707,   7.54419224,   0.04052461],\n",
       "       [  1.79411842,  -5.5469007 ,  -3.58262813,   2.01475532,\n",
       "          6.21464844, -18.55254688,   1.51064048]])"
      ]
     },
     "metadata": {},
     "output_type": "display_data"
    }
   ],
   "source": [
    "print(\"Dataset original:\")\n",
    "LogReg = LogisticRegression(multi_class='ovr', max_iter=1000, solver=\"sag\")\n",
    "LogReg.fit(Xos_train, Yo_train)\n",
    "Yo_pred = LogReg.predict(Xos_test)\n",
    "confusion_matrix = metrics.confusion_matrix(Yo_test, Yo_pred)\n",
    "display(confusion_matrix)\n",
    "print(classification_report(Yo_test, Yo_pred))\n",
    "\n",
    "print(\"Oversampling:\")\n",
    "LogReg = LogisticRegression(multi_class='ovr', max_iter=1000, solver=\"sag\")\n",
    "LogReg.fit(Xs_train, Y_train)\n",
    "Y_pred = LogReg.predict(Xs_test)\n",
    "confusion_matrix = metrics.confusion_matrix(Y_test, Y_pred)\n",
    "display(confusion_matrix)\n",
    "print(classification_report(Y_test, Y_pred))\n",
    "\n",
    "display(LogReg.coef_)"
   ]
  },
  {
   "cell_type": "code",
   "execution_count": 328,
   "metadata": {},
   "outputs": [
    {
     "data": {
      "text/plain": [
       "[3, 4, 5, 6, 7, 13, 15]"
      ]
     },
     "metadata": {},
     "output_type": "display_data"
    },
    {
     "data": {
      "text/plain": [
       "[3, 4, 5, 6, 7, 13, 15]"
      ]
     },
     "metadata": {},
     "output_type": "display_data"
    },
    {
     "data": {
      "text/plain": [
       "[3, 4, 5, 6, 7, 13, 15]"
      ]
     },
     "metadata": {},
     "output_type": "display_data"
    }
   ],
   "source": [
    "a = []\n",
    "b = []\n",
    "c = []\n",
    "coef = [[ 0.00000000e+00,  1.14520463e-01,  1.98946846e-01,\n",
    "         1.62023037e+00, -1.71659390e+00,  6.45187130e+00,\n",
    "        -2.34158450e+00, -5.18750209e+00,  2.23166911e-01,\n",
    "         0.00000000e+00, -6.36142111e-02, -1.44713714e-01,\n",
    "        -1.71759772e-02, -1.78015460e+00, -1.71630345e-02,\n",
    "        -2.21762464e+00,  3.54939217e-02],\n",
    "       [ 0.00000000e+00, -1.18191374e-02,  9.51398386e-02,\n",
    "        -4.42756699e+00,  7.95507502e+00,  2.15783900e+00,\n",
    "        -2.47259898e+00, -3.14968731e+00, -4.03563369e-01,\n",
    "         0.00000000e+00,  2.35817986e-01, -1.73732349e-01,\n",
    "         5.82743745e-01,  7.91875172e+00,  5.82747874e-01,\n",
    "        -1.17449039e+00, -9.71376859e-02],\n",
    "       [ 0.00000000e+00, -9.44843341e-02, -2.73572760e-01,\n",
    "         1.69421594e+00, -5.46005855e+00, -3.49100897e+00,\n",
    "         1.93447213e+00,  6.23814468e+00, -9.58180685e-02,\n",
    "         0.00000000e+00,  3.15797444e-02,  2.12247524e-01,\n",
    "        -2.24104098e-01, -1.75863941e+01, -2.24115812e-01,\n",
    "         2.04974949e+00, -1.35655141e-02]]\n",
    "\n",
    "for i,x in enumerate(coef[0]):\n",
    "    if abs(x) >= 1:\n",
    "        a.append(i)\n",
    "for i,x in enumerate(coef[1]):\n",
    "    if abs(x) >= 1:\n",
    "        b.append(i)\n",
    "for i,x in enumerate(coef[2]):\n",
    "    if abs(x) >= 1:\n",
    "        c.append(i)\n",
    "display(a, b, c)"
   ]
  },
  {
   "cell_type": "markdown",
   "metadata": {},
   "source": [
    "Oversampling y undersampling mejoran algunas metricas pero empeoran otras."
   ]
  },
  {
   "cell_type": "markdown",
   "metadata": {},
   "source": [
    "# Decision Tree"
   ]
  },
  {
   "cell_type": "code",
   "execution_count": 329,
   "metadata": {
    "scrolled": true
   },
   "outputs": [
    {
     "data": {
      "text/plain": [
       "array([[1484,   21,    6],\n",
       "       [   4, 1183,    0],\n",
       "       [   0,    0, 1277]], dtype=int64)"
      ]
     },
     "metadata": {},
     "output_type": "display_data"
    },
    {
     "name": "stdout",
     "output_type": "stream",
     "text": [
      "              precision    recall  f1-score   support\n",
      "\n",
      "      GALAXY       1.00      0.98      0.99      1511\n",
      "         QSO       0.98      1.00      0.99      1187\n",
      "        STAR       1.00      1.00      1.00      1277\n",
      "\n",
      "    accuracy                           0.99      3975\n",
      "   macro avg       0.99      0.99      0.99      3975\n",
      "weighted avg       0.99      0.99      0.99      3975\n",
      "\n"
     ]
    }
   ],
   "source": [
    "dtree = tree.DecisionTreeClassifier()\n",
    "dtree.fit(Xs_train, Y_train)\n",
    "\n",
    "tree_pred = dtree.predict(Xs_test)\n",
    "confusion_matrix = metrics.confusion_matrix(Y_test, tree_pred)\n",
    "display(confusion_matrix)\n",
    "print(classification_report(Y_test, tree_pred))"
   ]
  },
  {
   "cell_type": "code",
   "execution_count": null,
   "metadata": {
    "collapsed": true
   },
   "outputs": [],
   "source": [
    "over y under lo mejoran"
   ]
  },
  {
   "cell_type": "code",
   "execution_count": 299,
   "metadata": {},
   "outputs": [],
   "source": [
    "tree.plot_tree?"
   ]
  },
  {
   "cell_type": "code",
   "execution_count": 331,
   "metadata": {
    "scrolled": false
   },
   "outputs": [
    {
     "data": {
      "image/png": "[encoded data removed]",
      "text/plain": [
       "<Figure size 1200x1200 with 1 Axes>"
      ]
     },
     "metadata": {
      "needs_background": "light"
     },
     "output_type": "display_data"
    }
   ],
   "source": [
    "features=list(X.columns)\n",
    "classes=[\"GALAXY\", \"QSO\", \"STAR\"]\n",
    "\n",
    "fig, axes = plt.subplots(nrows = 1,ncols = 1,figsize = (4,4), dpi=300)\n",
    "tree.plot_tree(dtree, feature_names=features, class_names=classes, filled=True, \n",
    "                     rounded=True, impurity=False, max_depth=2);\n",
    "fig.savefig('modelo.png')"
   ]
  },
  {
   "cell_type": "markdown",
   "metadata": {},
   "source": [
    "# Random Forest"
   ]
  },
  {
   "cell_type": "code",
   "execution_count": 272,
   "metadata": {},
   "outputs": [
    {
     "name": "stdout",
     "output_type": "stream",
     "text": [
      "[[1493    8   10]\n",
      " [   3 1184    0]\n",
      " [   1    0 1276]]\n",
      "              precision    recall  f1-score   support\n",
      "\n",
      "      GALAXY       1.00      0.99      0.99      1511\n",
      "         QSO       0.99      1.00      1.00      1187\n",
      "        STAR       0.99      1.00      1.00      1277\n",
      "\n",
      "    accuracy                           0.99      3975\n",
      "   macro avg       0.99      0.99      0.99      3975\n",
      "weighted avg       0.99      0.99      0.99      3975\n",
      "\n"
     ]
    }
   ],
   "source": [
    "rforest = RandomForestClassifier(n_estimators=15)\n",
    "rforest.fit(X_train, Y_train)\n",
    "\n",
    "#Predicciones\n",
    "forest_pred = rforest.predict(X_test)\n",
    "#Evaluación del rendimiento del clasificador\n",
    "from sklearn.metrics import confusion_matrix\n",
    "confusion_matrix = confusion_matrix(Y_test, forest_pred)\n",
    "print(confusion_matrix)\n",
    "#Print de la matriz de confusión\n",
    "from sklearn.metrics import classification_report\n",
    "print(classification_report(Y_test, forest_pred))"
   ]
  },
  {
   "cell_type": "code",
   "execution_count": null,
   "metadata": {
    "collapsed": true
   },
   "outputs": [],
   "source": [
    "over y under lo mejoran"
   ]
  }
 ],
 "metadata": {
  "kernelspec": {
   "display_name": "env",
   "language": "python",
   "name": "env"
  },
  "language_info": {
   "codemirror_mode": {
    "name": "ipython",
    "version": 3
   },
   "file_extension": ".py",
   "mimetype": "text/x-python",
   "name": "python",
   "nbconvert_exporter": "python",
   "pygments_lexer": "ipython3",
   "version": "3.6.1"
  }
 },
 "nbformat": 4,
 "nbformat_minor": 2
}
