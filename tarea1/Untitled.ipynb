{
 "cells": [
  {
   "cell_type": "code",
   "execution_count": 1,
   "metadata": {
    "collapsed": true
   },
   "outputs": [],
   "source": [
    "import numpy as np\n",
    "import pandas as pd\n",
    "import sklearn\n",
    "from sklearn import preprocessing\n",
    "from sklearn.linear_model import LogisticRegression\n",
    "from sklearn.model_selection import train_test_split\n",
    "from sklearn import metrics\n",
    "from sklearn.metrics import classification_report\n",
    "from sklearn import tree\n",
    "from sklearn.ensemble import RandomForestClassifier\n",
    "import imblearn\n",
    "from imblearn.over_sampling import RandomOverSampler\n",
    "from imblearn.under_sampling import RandomUnderSampler\n",
    "import matplotlib.pyplot as plt"
   ]
  },
  {
   "cell_type": "markdown",
   "metadata": {},
   "source": [
    "# Preparando los datos\n",
    "Se comienza por cargar el dataset y hecharle una primera mirada.\n",
    "Esto muestra las clases y las caracteristicas (que todavia falta averiguar que significan).\n",
    "El dataset no tiene valores faltantes, por lo que se puede ocupar sin un trabajo previo de preparacion."
   ]
  },
  {
   "cell_type": "code",
   "execution_count": 2,
   "metadata": {},
   "outputs": [
    {
     "data": {
      "text/html": [
       "<div>\n",
       "<style scoped>\n",
       "    .dataframe tbody tr th:only-of-type {\n",
       "        vertical-align: middle;\n",
       "    }\n",
       "\n",
       "    .dataframe tbody tr th {\n",
       "        vertical-align: top;\n",
       "    }\n",
       "\n",
       "    .dataframe thead th {\n",
       "        text-align: right;\n",
       "    }\n",
       "</style>\n",
       "<table border=\"1\" class=\"dataframe\">\n",
       "  <thead>\n",
       "    <tr style=\"text-align: right;\">\n",
       "      <th></th>\n",
       "      <th>objid</th>\n",
       "      <th>ra</th>\n",
       "      <th>dec</th>\n",
       "      <th>u</th>\n",
       "      <th>g</th>\n",
       "      <th>r</th>\n",
       "      <th>i</th>\n",
       "      <th>z</th>\n",
       "      <th>run</th>\n",
       "      <th>rerun</th>\n",
       "      <th>camcol</th>\n",
       "      <th>field</th>\n",
       "      <th>specobjid</th>\n",
       "      <th>class</th>\n",
       "      <th>redshift</th>\n",
       "      <th>plate</th>\n",
       "      <th>mjd</th>\n",
       "      <th>fiberid</th>\n",
       "    </tr>\n",
       "  </thead>\n",
       "  <tbody>\n",
       "    <tr>\n",
       "      <th>0</th>\n",
       "      <td>1.237650e+18</td>\n",
       "      <td>183.531326</td>\n",
       "      <td>0.089693</td>\n",
       "      <td>19.47406</td>\n",
       "      <td>17.04240</td>\n",
       "      <td>15.94699</td>\n",
       "      <td>15.50342</td>\n",
       "      <td>15.22531</td>\n",
       "      <td>752</td>\n",
       "      <td>301</td>\n",
       "      <td>4</td>\n",
       "      <td>267</td>\n",
       "      <td>3.722360e+18</td>\n",
       "      <td>STAR</td>\n",
       "      <td>-0.000009</td>\n",
       "      <td>3306</td>\n",
       "      <td>54922</td>\n",
       "      <td>491</td>\n",
       "    </tr>\n",
       "    <tr>\n",
       "      <th>1</th>\n",
       "      <td>1.237650e+18</td>\n",
       "      <td>183.598371</td>\n",
       "      <td>0.135285</td>\n",
       "      <td>18.66280</td>\n",
       "      <td>17.21449</td>\n",
       "      <td>16.67637</td>\n",
       "      <td>16.48922</td>\n",
       "      <td>16.39150</td>\n",
       "      <td>752</td>\n",
       "      <td>301</td>\n",
       "      <td>4</td>\n",
       "      <td>267</td>\n",
       "      <td>3.638140e+17</td>\n",
       "      <td>STAR</td>\n",
       "      <td>-0.000055</td>\n",
       "      <td>323</td>\n",
       "      <td>51615</td>\n",
       "      <td>541</td>\n",
       "    </tr>\n",
       "    <tr>\n",
       "      <th>2</th>\n",
       "      <td>1.237650e+18</td>\n",
       "      <td>183.680207</td>\n",
       "      <td>0.126185</td>\n",
       "      <td>19.38298</td>\n",
       "      <td>18.19169</td>\n",
       "      <td>17.47428</td>\n",
       "      <td>17.08732</td>\n",
       "      <td>16.80125</td>\n",
       "      <td>752</td>\n",
       "      <td>301</td>\n",
       "      <td>4</td>\n",
       "      <td>268</td>\n",
       "      <td>3.232740e+17</td>\n",
       "      <td>GALAXY</td>\n",
       "      <td>0.123111</td>\n",
       "      <td>287</td>\n",
       "      <td>52023</td>\n",
       "      <td>513</td>\n",
       "    </tr>\n",
       "    <tr>\n",
       "      <th>3</th>\n",
       "      <td>1.237650e+18</td>\n",
       "      <td>183.870529</td>\n",
       "      <td>0.049911</td>\n",
       "      <td>17.76536</td>\n",
       "      <td>16.60272</td>\n",
       "      <td>16.16116</td>\n",
       "      <td>15.98233</td>\n",
       "      <td>15.90438</td>\n",
       "      <td>752</td>\n",
       "      <td>301</td>\n",
       "      <td>4</td>\n",
       "      <td>269</td>\n",
       "      <td>3.722370e+18</td>\n",
       "      <td>STAR</td>\n",
       "      <td>-0.000111</td>\n",
       "      <td>3306</td>\n",
       "      <td>54922</td>\n",
       "      <td>510</td>\n",
       "    </tr>\n",
       "    <tr>\n",
       "      <th>4</th>\n",
       "      <td>1.237650e+18</td>\n",
       "      <td>183.883288</td>\n",
       "      <td>0.102557</td>\n",
       "      <td>17.55025</td>\n",
       "      <td>16.26342</td>\n",
       "      <td>16.43869</td>\n",
       "      <td>16.55492</td>\n",
       "      <td>16.61326</td>\n",
       "      <td>752</td>\n",
       "      <td>301</td>\n",
       "      <td>4</td>\n",
       "      <td>269</td>\n",
       "      <td>3.722370e+18</td>\n",
       "      <td>STAR</td>\n",
       "      <td>0.000590</td>\n",
       "      <td>3306</td>\n",
       "      <td>54922</td>\n",
       "      <td>512</td>\n",
       "    </tr>\n",
       "  </tbody>\n",
       "</table>\n",
       "</div>"
      ],
      "text/plain": [
       "          objid          ra       dec         u         g         r         i  \\\n",
       "0  1.237650e+18  183.531326  0.089693  19.47406  17.04240  15.94699  15.50342   \n",
       "1  1.237650e+18  183.598371  0.135285  18.66280  17.21449  16.67637  16.48922   \n",
       "2  1.237650e+18  183.680207  0.126185  19.38298  18.19169  17.47428  17.08732   \n",
       "3  1.237650e+18  183.870529  0.049911  17.76536  16.60272  16.16116  15.98233   \n",
       "4  1.237650e+18  183.883288  0.102557  17.55025  16.26342  16.43869  16.55492   \n",
       "\n",
       "          z  run  rerun  camcol  field     specobjid   class  redshift  plate  \\\n",
       "0  15.22531  752    301       4    267  3.722360e+18    STAR -0.000009   3306   \n",
       "1  16.39150  752    301       4    267  3.638140e+17    STAR -0.000055    323   \n",
       "2  16.80125  752    301       4    268  3.232740e+17  GALAXY  0.123111    287   \n",
       "3  15.90438  752    301       4    269  3.722370e+18    STAR -0.000111   3306   \n",
       "4  16.61326  752    301       4    269  3.722370e+18    STAR  0.000590   3306   \n",
       "\n",
       "     mjd  fiberid  \n",
       "0  54922      491  \n",
       "1  51615      541  \n",
       "2  52023      513  \n",
       "3  54922      510  \n",
       "4  54922      512  "
      ]
     },
     "execution_count": 2,
     "metadata": {},
     "output_type": "execute_result"
    }
   ],
   "source": [
    "df = pd.read_csv(\"SDSS-DR14.csv\", sep=',', header=0)\n",
    "df.head()"
   ]
  },
  {
   "cell_type": "code",
   "execution_count": 4,
   "metadata": {
    "scrolled": true
   },
   "outputs": [
    {
     "data": {
      "text/plain": [
       "objid        0\n",
       "ra           0\n",
       "dec          0\n",
       "u            0\n",
       "g            0\n",
       "r            0\n",
       "i            0\n",
       "z            0\n",
       "run          0\n",
       "rerun        0\n",
       "camcol       0\n",
       "field        0\n",
       "specobjid    0\n",
       "class        0\n",
       "redshift     0\n",
       "plate        0\n",
       "mjd          0\n",
       "fiberid      0\n",
       "dtype: int64"
      ]
     },
     "execution_count": 4,
     "metadata": {},
     "output_type": "execute_result"
    }
   ],
   "source": [
    "df.isnull().sum()"
   ]
  },
  {
   "cell_type": "code",
   "execution_count": 5,
   "metadata": {},
   "outputs": [
    {
     "data": {
      "text/html": [
       "<div>\n",
       "<style scoped>\n",
       "    .dataframe tbody tr th:only-of-type {\n",
       "        vertical-align: middle;\n",
       "    }\n",
       "\n",
       "    .dataframe tbody tr th {\n",
       "        vertical-align: top;\n",
       "    }\n",
       "\n",
       "    .dataframe thead th {\n",
       "        text-align: right;\n",
       "    }\n",
       "</style>\n",
       "<table border=\"1\" class=\"dataframe\">\n",
       "  <thead>\n",
       "    <tr style=\"text-align: right;\">\n",
       "      <th></th>\n",
       "      <th>objid</th>\n",
       "      <th>ra</th>\n",
       "      <th>dec</th>\n",
       "      <th>u</th>\n",
       "      <th>g</th>\n",
       "      <th>r</th>\n",
       "      <th>i</th>\n",
       "      <th>z</th>\n",
       "      <th>run</th>\n",
       "      <th>rerun</th>\n",
       "      <th>camcol</th>\n",
       "      <th>field</th>\n",
       "      <th>specobjid</th>\n",
       "      <th>redshift</th>\n",
       "      <th>plate</th>\n",
       "      <th>mjd</th>\n",
       "      <th>fiberid</th>\n",
       "    </tr>\n",
       "    <tr>\n",
       "      <th>class</th>\n",
       "      <th></th>\n",
       "      <th></th>\n",
       "      <th></th>\n",
       "      <th></th>\n",
       "      <th></th>\n",
       "      <th></th>\n",
       "      <th></th>\n",
       "      <th></th>\n",
       "      <th></th>\n",
       "      <th></th>\n",
       "      <th></th>\n",
       "      <th></th>\n",
       "      <th></th>\n",
       "      <th></th>\n",
       "      <th></th>\n",
       "      <th></th>\n",
       "      <th></th>\n",
       "    </tr>\n",
       "  </thead>\n",
       "  <tbody>\n",
       "    <tr>\n",
       "      <th>GALAXY</th>\n",
       "      <td>4998</td>\n",
       "      <td>4998</td>\n",
       "      <td>4998</td>\n",
       "      <td>4998</td>\n",
       "      <td>4998</td>\n",
       "      <td>4998</td>\n",
       "      <td>4998</td>\n",
       "      <td>4998</td>\n",
       "      <td>4998</td>\n",
       "      <td>4998</td>\n",
       "      <td>4998</td>\n",
       "      <td>4998</td>\n",
       "      <td>4998</td>\n",
       "      <td>4998</td>\n",
       "      <td>4998</td>\n",
       "      <td>4998</td>\n",
       "      <td>4998</td>\n",
       "    </tr>\n",
       "    <tr>\n",
       "      <th>QSO</th>\n",
       "      <td>850</td>\n",
       "      <td>850</td>\n",
       "      <td>850</td>\n",
       "      <td>850</td>\n",
       "      <td>850</td>\n",
       "      <td>850</td>\n",
       "      <td>850</td>\n",
       "      <td>850</td>\n",
       "      <td>850</td>\n",
       "      <td>850</td>\n",
       "      <td>850</td>\n",
       "      <td>850</td>\n",
       "      <td>850</td>\n",
       "      <td>850</td>\n",
       "      <td>850</td>\n",
       "      <td>850</td>\n",
       "      <td>850</td>\n",
       "    </tr>\n",
       "    <tr>\n",
       "      <th>STAR</th>\n",
       "      <td>4152</td>\n",
       "      <td>4152</td>\n",
       "      <td>4152</td>\n",
       "      <td>4152</td>\n",
       "      <td>4152</td>\n",
       "      <td>4152</td>\n",
       "      <td>4152</td>\n",
       "      <td>4152</td>\n",
       "      <td>4152</td>\n",
       "      <td>4152</td>\n",
       "      <td>4152</td>\n",
       "      <td>4152</td>\n",
       "      <td>4152</td>\n",
       "      <td>4152</td>\n",
       "      <td>4152</td>\n",
       "      <td>4152</td>\n",
       "      <td>4152</td>\n",
       "    </tr>\n",
       "  </tbody>\n",
       "</table>\n",
       "</div>"
      ],
      "text/plain": [
       "        objid    ra   dec     u     g     r     i     z   run  rerun  camcol  \\\n",
       "class                                                                          \n",
       "GALAXY   4998  4998  4998  4998  4998  4998  4998  4998  4998   4998    4998   \n",
       "QSO       850   850   850   850   850   850   850   850   850    850     850   \n",
       "STAR     4152  4152  4152  4152  4152  4152  4152  4152  4152   4152    4152   \n",
       "\n",
       "        field  specobjid  redshift  plate   mjd  fiberid  \n",
       "class                                                     \n",
       "GALAXY   4998       4998      4998   4998  4998     4998  \n",
       "QSO       850        850       850    850   850      850  \n",
       "STAR     4152       4152      4152   4152  4152     4152  "
      ]
     },
     "execution_count": 5,
     "metadata": {},
     "output_type": "execute_result"
    }
   ],
   "source": [
    "df.groupby(\"class\").count()"
   ]
  },
  {
   "cell_type": "markdown",
   "metadata": {},
   "source": [
    "El dataset esta claramente desbalanceado, ya que hay muy pocas observaciones de quasares.\n",
    "Hay que tener cuidado al hacer oversampling o undersampling ya que introduce \"bias\" (especialmente en los arboles). Inicialmente se balancearon los datos antes de divirlos en train/test y los algoritmos basados en arboles tuvieron resultados cercanos al 100%. Sin embargo al hacer over/under sampling despues de split bajaron casi todos los valores, y fueron similares a no usar niguno de los dos. Pero en esos dos casos los dataset de entrenamiento deberian ser casi iguales, por lo que el cambio en los resultados se debe al \"bias\".\n",
    "\n",
    "Tambien fue necesario escalar los datos para la regresion logistica."
   ]
  },
  {
   "cell_type": "code",
   "execution_count": 3,
   "metadata": {},
   "outputs": [
    {
     "data": {
      "text/plain": [
       "Index(['u', 'g', 'r', 'i', 'z', 'redshift'], dtype='object')"
      ]
     },
     "metadata": {},
     "output_type": "display_data"
    }
   ],
   "source": [
    "# after split {'GALAXY': 3545, 'QSO': 603, 'STAR': 2852}\n",
    "samples = {\"GALAXY\":3545, \"QSO\":2603, \"STAR\":2852 }\n",
    "\n",
    "oversampler = RandomOverSampler(sampling_strategy=samples)\n",
    "undersampler = RandomUnderSampler(sampling_strategy=samples)\n",
    "\n",
    "\n",
    "X = df.drop([\"class\"],axis=1)\n",
    "Y = df.iloc[:,13]\n",
    "\n",
    "mask = [3, 4, 5, 6, 7, 13]\n",
    "X = X.iloc[:, mask]\n",
    "display(X.columns)\n",
    "\n",
    "Xo_train, X_test, Yo_train, Y_test = train_test_split(X, Y, test_size = .3, random_state=25)\n",
    "\n",
    "X_train, Y_train = oversampler.fit_resample(Xo_train, Yo_train)\n",
    "#X_train, Y_train = undersampler.fit_resample(Xo_train, Yo_train)\n",
    "\n",
    "\n",
    "scaler = preprocessing.StandardScaler().fit(X)\n",
    "Xos_train = scaler.transform(Xo_train)\n",
    "Xs_train = scaler.transform(X_train)\n",
    "Xs_test = scaler.transform(X_test)"
   ]
  },
  {
   "cell_type": "markdown",
   "metadata": {},
   "source": [
    "En cuanto a las caracteristicas que utilizar en los modelos hubo problemas para encontrar su significado y como no hay ninguna que diga la respuesta aparte de \"class\", inicialmente simplemente se utilizaron todas las caracteristicas del dataset y despues se eliminaron las con menos influencia.\n",
    "Despues de ver el significado de las caracteristicas se aprecia que se elminaron los id y las relacionadas al telescopio y a la run, que obviamente no tienen ningun efecto en la clase del objeto.\n",
    "Llama la atencion que la fecha (mjd) afecte la clasificacion de las clases (principalmente quasar)"
   ]
  },
  {
   "cell_type": "markdown",
   "metadata": {},
   "source": [
    "# Logistic Regression"
   ]
  },
  {
   "cell_type": "code",
   "execution_count": 5,
   "metadata": {
    "scrolled": false
   },
   "outputs": [
    {
     "name": "stdout",
     "output_type": "stream",
     "text": [
      "Dataset original:\n"
     ]
    },
    {
     "data": {
      "text/plain": [
       "array([[1400,    4,   49],\n",
       "       [  20,  227,    0],\n",
       "       [  14,    2, 1284]], dtype=int64)"
      ]
     },
     "metadata": {},
     "output_type": "display_data"
    },
    {
     "name": "stdout",
     "output_type": "stream",
     "text": [
      "              precision    recall  f1-score   support\n",
      "\n",
      "      GALAXY       0.98      0.96      0.97      1453\n",
      "         QSO       0.97      0.92      0.95       247\n",
      "        STAR       0.96      0.99      0.98      1300\n",
      "\n",
      "    accuracy                           0.97      3000\n",
      "   macro avg       0.97      0.96      0.96      3000\n",
      "weighted avg       0.97      0.97      0.97      3000\n",
      "\n",
      "Over/Under sampling:\n"
     ]
    },
    {
     "data": {
      "text/plain": [
       "array([[1397,    7,   49],\n",
       "       [  11,  236,    0],\n",
       "       [  12,    5, 1283]], dtype=int64)"
      ]
     },
     "metadata": {},
     "output_type": "display_data"
    },
    {
     "name": "stdout",
     "output_type": "stream",
     "text": [
      "              precision    recall  f1-score   support\n",
      "\n",
      "      GALAXY       0.98      0.96      0.97      1453\n",
      "         QSO       0.95      0.96      0.95       247\n",
      "        STAR       0.96      0.99      0.97      1300\n",
      "\n",
      "    accuracy                           0.97      3000\n",
      "   macro avg       0.97      0.97      0.97      3000\n",
      "weighted avg       0.97      0.97      0.97      3000\n",
      "\n"
     ]
    },
    {
     "data": {
      "text/plain": [
       "array([[  1.04639476,  -1.45714554,   1.35822011,  -0.17249594,\n",
       "         -0.96896683,   7.9368439 ],\n",
       "       [ -3.27783766,   5.10887184,   1.22450164,  -0.76930115,\n",
       "         -2.59069225,  11.68673629],\n",
       "       [  2.2314429 ,  -3.65172631,  -2.58272175,   0.94179709,\n",
       "          3.55965908, -19.62358019]])"
      ]
     },
     "metadata": {},
     "output_type": "display_data"
    }
   ],
   "source": [
    "print(\"Dataset original:\")\n",
    "LogReg = LogisticRegression(multi_class='multinomial', max_iter=1000, solver=\"newton-cg\")\n",
    "LogReg.fit(Xos_train, Yo_train)\n",
    "Yo_pred = LogReg.predict(Xs_test)\n",
    "confusion_matrix = metrics.confusion_matrix(Y_test, Yo_pred)\n",
    "display(confusion_matrix)\n",
    "print(classification_report(Y_test, Yo_pred))\n",
    "\n",
    "print(\"Over/Under sampling:\")\n",
    "LogReg = LogisticRegression(multi_class='multinomial', max_iter=1000, solver=\"newton-cg\")\n",
    "LogReg.fit(Xs_train, Y_train)\n",
    "Y_pred = LogReg.predict(Xs_test)\n",
    "confusion_matrix = metrics.confusion_matrix(Y_test, Y_pred)\n",
    "display(confusion_matrix)\n",
    "print(classification_report(Y_test, Y_pred))\n",
    "\n",
    "display(LogReg.coef_)"
   ]
  },
  {
   "cell_type": "markdown",
   "metadata": {},
   "source": [
    "La regresion logistica es la que en general peor predice las clases, pero es el modelo que mejor reconoce los quasares.\n",
    "En cuanto al oversampling, este no tiene mucho efecto en el modelo, pero dependiendo del metodo utilizado y dela cantidad de samples de cada clase puede causar un empeoramiento en las predicciones.\n",
    "\n",
    "Tambien se debe tener en cuenta que newton-cg es el que produce mejores resultados generales, pero otros metodos producen un mejor reconocimiento de quasares a cambio de un peor reconocimiento de estrellas y galaxias\n",
    "\n",
    "Se puede apreciar que el redshift es el componente mas importante para la clasificacion."
   ]
  },
  {
   "cell_type": "markdown",
   "metadata": {},
   "source": [
    "# Decision Tree"
   ]
  },
  {
   "cell_type": "code",
   "execution_count": 65,
   "metadata": {
    "scrolled": true
   },
   "outputs": [
    {
     "data": {
      "text/plain": [
       "array([[1445,    6,    2],\n",
       "       [  27,  220,    0],\n",
       "       [   8,    2, 1290]], dtype=int64)"
      ]
     },
     "metadata": {},
     "output_type": "display_data"
    },
    {
     "name": "stdout",
     "output_type": "stream",
     "text": [
      "              precision    recall  f1-score   support\n",
      "\n",
      "      GALAXY       0.98      0.99      0.99      1453\n",
      "         QSO       0.96      0.89      0.93       247\n",
      "        STAR       1.00      0.99      1.00      1300\n",
      "\n",
      "    accuracy                           0.98      3000\n",
      "   macro avg       0.98      0.96      0.97      3000\n",
      "weighted avg       0.98      0.98      0.98      3000\n",
      "\n"
     ]
    }
   ],
   "source": [
    "dtree = tree.DecisionTreeClassifier()\n",
    "dtree.fit(X_train, Y_train)\n",
    "\n",
    "tree_pred = dtree.predict(X_test)\n",
    "confusion_matrix = metrics.confusion_matrix(Y_test, tree_pred)\n",
    "display(confusion_matrix)\n",
    "print(classification_report(Y_test, tree_pred))"
   ]
  },
  {
   "cell_type": "markdown",
   "metadata": {
    "collapsed": true
   },
   "source": [
    "Despues del error de hacer oversampling antes de split en los datos, queda bastante claro lo \"biased\" que pueden ser los arboles y el random forest tambien, ya que la tenia una prediccion casi del 100%, lo que no sucedio con la regresion logistica.\n",
    "\n",
    "Al igual que en la regresion logistica se aprecia lo importante que es el redshift, que es usado al principio para separar en gran medida las 3 clases. De hecho al hacer la prueba si solo se considera el redshift como unica caracteristica el cambio en la deteccion de galaxias y estrellas es insignificante, solo empeora un poco la deteccion de quasares.\n",
    "Ocurre algo similar en la regersion logistica y random forest, solo que en ese caso la deteccion de quasares emperora en gran medida, especialmente en la regresion."
   ]
  },
  {
   "cell_type": "code",
   "execution_count": 58,
   "metadata": {
    "scrolled": false
   },
   "outputs": [
    {
     "data": {
      "image/png": "[encoded data removed]",
      "text/plain": [
       "<Figure size 1200x1200 with 1 Axes>"
      ]
     },
     "metadata": {
      "needs_background": "light"
     },
     "output_type": "display_data"
    }
   ],
   "source": [
    "features=list(X.columns)\n",
    "classes=[\"GALAXY\", \"QSO\", \"STAR\"]\n",
    "\n",
    "fig, axes = plt.subplots(nrows = 1,ncols = 1,figsize = (4,4), dpi=300)\n",
    "tree.plot_tree(dtree, feature_names=features, class_names=classes, filled=True, \n",
    "                     rounded=True, impurity=False, max_depth=2);\n",
    "fig.savefig('modelo.png')"
   ]
  },
  {
   "cell_type": "markdown",
   "metadata": {},
   "source": [
    "# Random Forest"
   ]
  },
  {
   "cell_type": "code",
   "execution_count": 79,
   "metadata": {},
   "outputs": [
    {
     "name": "stdout",
     "output_type": "stream",
     "text": [
      "[[1444    6    3]\n",
      " [  21  226    0]\n",
      " [   4    0 1296]]\n",
      "              precision    recall  f1-score   support\n",
      "\n",
      "      GALAXY       0.98      0.99      0.99      1453\n",
      "         QSO       0.97      0.91      0.94       247\n",
      "        STAR       1.00      1.00      1.00      1300\n",
      "\n",
      "    accuracy                           0.99      3000\n",
      "   macro avg       0.98      0.97      0.98      3000\n",
      "weighted avg       0.99      0.99      0.99      3000\n",
      "\n"
     ]
    }
   ],
   "source": [
    "rforest = RandomForestClassifier(n_estimators=15)\n",
    "rforest.fit(X_train, Y_train)\n",
    "\n",
    "#Predicciones\n",
    "forest_pred = rforest.predict(X_test)\n",
    "#Evaluación del rendimiento del clasificador\n",
    "from sklearn.metrics import confusion_matrix\n",
    "confusion_matrix = confusion_matrix(Y_test, forest_pred)\n",
    "print(confusion_matrix)\n",
    "#Print de la matriz de confusión\n",
    "from sklearn.metrics import classification_report\n",
    "print(classification_report(Y_test, forest_pred))"
   ]
  },
  {
   "cell_type": "markdown",
   "metadata": {
    "collapsed": true
   },
   "source": [
    "El random forest tiene un comportamiento similar a los arboles de decision, pero produce mejores resultados. Esto se nota claramente en los quasares. Por una parte el arbol de decision es capaz de reconocer estrellas solo con el redshift pero tiene problemas para distingir quasares usando el resto de caracteristicas. En cambio el random forest utiliza mejor esas caracterisaticas para distinguir los quasares, y reconoce las estrellas con la misma facilidad.\n"
   ]
  },
  {
   "cell_type": "markdown",
   "metadata": {},
   "source": [
    "# Conclusion\n",
    "Al comparar los modelos lo primero que se aprecia es que ante la posibilidad de usar random forest no vale la pena usar simplemente un arbol de decision, ya que uno es simplemente una implementacion mejorada del otro. Aunque en algunos casos puede no ser viable el entrenamiento de tantos modelos, lo que claramente es una ventaja de utilizar un solo arbol en ciertos casos.\n",
    "\n",
    "Al comparar el random forest con la regresion logistica se aprecia que el random forest es mejor en general. Tiene mejor precision y recall de galaxias y estrellas y mejor precision en quasares. Sin embargo la regresion logistica tiene un recall mejor recall de quasares, siendo la diferencia mejora mayor que el empeoramineto de la deteccion de cualquiera de las otras clases.Por lo tanto que modelo utilizar depende del objetivo para el que se quieran utilizar, y si es posible seria recomendable usar ambos."
   ]
  }
 ],
 "metadata": {
  "kernelspec": {
   "display_name": "env",
   "language": "python",
   "name": "env"
  },
  "language_info": {
   "codemirror_mode": {
    "name": "ipython",
    "version": 3
   },
   "file_extension": ".py",
   "mimetype": "text/x-python",
   "name": "python",
   "nbconvert_exporter": "python",
   "pygments_lexer": "ipython3",
   "version": "3.6.1"
  }
 },
 "nbformat": 4,
 "nbformat_minor": 2
}
